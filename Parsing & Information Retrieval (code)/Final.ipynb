{
 "cells": [
  {
   "cell_type": "markdown",
   "metadata": {},
   "source": [
    "## **<span style=\"color:red\">Gemini API calling </span>**\n"
   ]
  },
  {
   "cell_type": "code",
   "execution_count": 2,
   "metadata": {},
   "outputs": [],
   "source": [
    "import google.generativeai as genai\n",
    "from dotenv import load_dotenv\n",
    "import os\n",
    "\n",
    "# Load the environment variables from the .env file\n",
    "load_dotenv()\n",
    "\n",
    "# Get the API key from the environment variable\n",
    "GEMINI_API_KEY = os.getenv(\"GEMINI_API_KEY\")\n",
    "\n",
    "\n",
    "# Check if API key is loaded\n",
    "if not GEMINI_API_KEY:\n",
    "    raise ValueError(\"Gemini API key not found. Please set it in the code.\")\n",
    "\n",
    "\n",
    "# Configure Gemini AI\n",
    "genai.configure(api_key=GEMINI_API_KEY)\n",
    "model = genai.GenerativeModel(model_name=\"gemini-1.5-flash\")\n"
   ]
  },
  {
   "cell_type": "markdown",
   "metadata": {},
   "source": [
    ".\n",
    "\n",
    "## **<span style=\"color:red\">Step 1: Parsing the Job Description </span>**"
   ]
  },
  {
   "cell_type": "code",
   "execution_count": 3,
   "metadata": {},
   "outputs": [
    {
     "name": "stdout",
     "output_type": "stream",
     "text": [
      "```json\n",
      "{\n",
      "  \"Industry\": \"Technology\",\n",
      "  \"Experience\": \"5-8 Yrs\",\n",
      "  \"Skills\": [\n",
      "    \"Data Engineering\",\n",
      "    \"data engineer\",\n",
      "    \"ETL\",\n",
      "    \"Python\",\n",
      "    \"SQL\",\n",
      "    \"Data Science\",\n",
      "    \"GCP\",\n",
      "    \"Azure Cloud\"\n",
      "  ]\n",
      "}\n",
      "``` \n",
      "\n"
     ]
    }
   ],
   "source": [
    "response1 = model.generate_content(\n",
    "    f\"\"\"\n",
    "        Extract the Industry, Experience and Skill from the Job description given below and Show it in JSON format.\n",
    "        'Accion Labs,       Data Engineer,      5-8 Yrs,        Data Engineering, data engineer, ETL, Python, SQL, Data Science, GCP, Azure Cloud,      Technology'\n",
    "\n",
    "    \"\"\"\n",
    ")\n",
    "JSON_Industry = response1.text\n",
    "\n",
    "print(JSON_Industry)"
   ]
  },
  {
   "cell_type": "markdown",
   "metadata": {},
   "source": [
    ".\n",
    "\n",
    "## **<span style=\"color:red\"> Step 2: Candidate RESUME to JSON </span>**\n"
   ]
  },
  {
   "cell_type": "code",
   "execution_count": null,
   "metadata": {},
   "outputs": [
    {
     "name": "stdout",
     "output_type": "stream",
     "text": [
      "```json\n",
      "{\n",
      "  \"Industry\": \"Software Engineering\",\n",
      "  \"Experience\": [\n",
      "    {\n",
      "      \"Company\": \"Zoho\",\n",
      "      \"Title\": \"Software Engineer\",\n",
      "      \"Duration\": \"March 2022 - Present (2 years 8 months)\",\n",
      "      \"Location\": \"Chennai, Tamil Nadu, India\",\n",
      "      \"Description\": \"Frontend, React, Typescript, Javascript, Redux, Jest, HTML, CSS\"\n",
      "    }\n",
      "  ],\n",
      "  \"Skills\": [\n",
      "    \"ES6\",\n",
      "    \"HTML5\",\n",
      "    \"CSS3\",\n",
      "    \"Javascript\",\n",
      "    \"Typescript\",\n",
      "    \"React\",\n",
      "    \"Redux\",\n",
      "    \"Java\",\n",
      "    \"Jest\",\n",
      "    \"Python 3.x\",\n",
      "    \"SQL\",\n",
      "    \"Problem Solving\",\n",
      "    \"Frontend Development\",\n",
      "    \"Web Development\",\n",
      "    \"Cross-browser Keyboard Simulation\",\n",
      "    \"File Transfer SDK\",\n",
      "    \"User Interface Optimization\",\n",
      "    \"Web Application Optimization\",\n",
      "    \"Performance Optimization\",\n",
      "    \"Scalability\",\n",
      "    \"User Experience\",\n",
      "    \"Code Review\",\n",
      "    \"Constructive Feedback\",\n",
      "    \"Mentoring\"\n",
      "  ]\n",
      "}\n",
      "```\n"
     ]
    }
   ],
   "source": [
    "### pdf to Text using Python ###\n",
    "import PyPDF2\n",
    "def pdf_to_text(pdf_file):\n",
    "    # Open the PDF file\n",
    "    with open(pdf_file, \"rb\") as file:\n",
    "        reader = PyPDF2.PdfReader(file)\n",
    "        text = \"\"\n",
    "\n",
    "        # Iterate through all the pages and extract text\n",
    "        for page_num in range(len(reader.pages)):\n",
    "            page = reader.pages[page_num]\n",
    "            text += page.extract_text()\n",
    "\n",
    "    return text\n",
    "\n",
    "pdf_file = \"CV.pdf\"  \n",
    "Text_CV = pdf_to_text(pdf_file)  \n",
    "\n",
    "\n",
    "### Text to JSON ##\n",
    "response2 = model.generate_content(\n",
    "    f\"Extract the Industry, Experience and Skill from the Candidate Resume given below and Show it in JSON format. : {Text_CV}\"\n",
    ")\n",
    "\n",
    "JSON_Candidate = response2.text\n",
    "\n",
    "print(JSON_Candidate)"
   ]
  },
  {
   "cell_type": "markdown",
   "metadata": {},
   "source": [
    ".\n",
    "\n",
    "### **<span style=\"color:red\"> STEP 3: Comparing the Job Description with the RESUME </span>**\n"
   ]
  },
  {
   "cell_type": "code",
   "execution_count": 13,
   "metadata": {},
   "outputs": [
    {
     "name": "stdout",
     "output_type": "stream",
     "text": [
      "## NOT FIT\n",
      "\n",
      "**Rating: 4/10**\n",
      "\n",
      "**Reason for not 10 points:**  Limited experience and skills directly relevant to the job description.\n",
      "\n",
      "**Industry:**  While software engineering overlaps with technology, the candidate's focus on frontend development doesn't directly align with the data engineering role.\n",
      "\n",
      "**Experience:**  The candidate's experience is in frontend development, lacking the required 5-8 years in data engineering.\n",
      "\n",
      "**Skills:**  The candidate possesses some relevant skills like SQL and Python, but their expertise in frontend technologies like React and Javascript outweighs the required data engineering skills like ETL, GCP, and Azure Cloud. \n",
      "\n"
     ]
    }
   ],
   "source": [
    "response5 = model.generate_content(\n",
    "    f\"\"\"\n",
    "        Compare them and say FIT or NOT FIT answer in general on top as a heading, followed by a rating out of 10.\n",
    "        For clarity, please explain the reasoning behind your assessment in separate lines for Industry, Experience & Skills in few words.\n",
    "                                  \n",
    "        and if not 10 points then Reason for not 10 points in separate line.\n",
    "                                  \n",
    "        Job Description:\n",
    "        - Job Description : {JSON_Industry}\n",
    "\n",
    "        Candidate Resume:\n",
    "        - Candidate CV : {JSON_Candidate}\n",
    "    \"\"\"\n",
    ")\n",
    "\n",
    "print(response5.text)"
   ]
  }
 ],
 "metadata": {
  "kernelspec": {
   "display_name": "Python 3",
   "language": "python",
   "name": "python3"
  },
  "language_info": {
   "codemirror_mode": {
    "name": "ipython",
    "version": 3
   },
   "file_extension": ".py",
   "mimetype": "text/x-python",
   "name": "python",
   "nbconvert_exporter": "python",
   "pygments_lexer": "ipython3",
   "version": "3.12.4"
  }
 },
 "nbformat": 4,
 "nbformat_minor": 2
}
