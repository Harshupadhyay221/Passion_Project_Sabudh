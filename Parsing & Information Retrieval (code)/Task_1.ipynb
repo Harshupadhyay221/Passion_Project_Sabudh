{
  "nbformat": 4,
  "nbformat_minor": 0,
  "metadata": {
    "colab": {
      "provenance": []
    },
    "kernelspec": {
      "name": "python3",
      "display_name": "Python 3"
    },
    "language_info": {
      "name": "python"
    }
  },
  "cells": [
    {
      "cell_type": "code",
      "execution_count": 3,
      "metadata": {
        "colab": {
          "base_uri": "https://localhost:8080/"
        },
        "id": "7p2x4qXHTjDc",
        "outputId": "05c1031d-ff71-4e98-cddb-7d5d1007ca24"
      },
      "outputs": [
        {
          "name": "stdout",
          "output_type": "stream",
          "text": [
            "Enter the job description you've copied \n",
            "Introduction   In this role, you'll work in one of our IBM Consulting Client Innovation Centers (Delivery Centers), where we deliver deep technical and industry expertise to a wide range of public and private sector clients around the world. Our delivery centers offer our clients locally based skills and technical expertise to drive innovation and adoption of new technology.   A career in IBM Consulting is rooted by long-term relationships and close collaboration with clients across the globe.   You'll work with visionaries across multiple industries to improve the hybrid cloud and Al journey for the most innovative and valuable companies in the world. Your ability to accelerate impact and make meaningful change for your clients is enabled by our strategic partner ecosystem and our robust technology platforms across the IBM portfolio; including Software and Red Hat.   Curiosity and a constant quest for knowledge serve as the foundation to success in IBM Consulting. In your role, you'll be encouraged to challenge the norm, investigate ideas outside of your role, and come up with creative solutions resulting in ground breaking impact for a wide network of clients. Our culture of evolution and empathy centers on long-term career growth and development opportunities in an environment that embraces your unique skills and experience.   Your Role and Responsibilities   Skilled Multiple GCP services - GCS, BigQuery, Cloud SQL, Dataflow, Pub/Sub, Cloud Run, Workflow, Composer, Error reporting, Log explorer etc.   Must have Python and SQL work experience & Proactive, collaborative and ability to respond to critical situation   Ability to analyze data for functional business requirements & front face customer   Required Technical and Professional Expertise   Intuitive individual with an ability to manage change and proven time management   Proven interpersonal skills while contributing to team effort by accomplishing related results as needed   Up-to-date technical knowledge by attending educational workshops, reviewing publications   Preferred Technical And Professional Expertise   Skilled Multiple GCP services - GCS, BigQuery, Cloud SQL, Dataflow, Pub/Sub, Cloud Run, Workflow, Composer, Error reporting, Log explorer   You love collaborative environments that use agile methodologies to encourage creative design thinking and find innovative ways to develop with cutting edge technologies   Ambitious individual who can work under their own direction towards agreed targets/goals and with creative approach to work   About Business Unit   IBM Consulting is IBM’s consulting and global professional services business, with market leading capabilities in business and technology transformation. With deep expertise in many industries, we offer strategy, experience, technology, and operations services to many of the most innovative and valuable companies in the world. Our people are focused on accelerating our clients’ businesses through the power of collaboration. We believe in the power of technology responsibly used to help people, partners and the planet.   This job requires you to be fully COVID-19 vaccinated prior to your start date and proof of vaccination status will be required before your start date. During the Onboarding process you will be asked to confirm your vaccination status, in case you are unable to get vaccinated for any reason, you can let us know at that stage. Please let us know if you are unable to be vaccinated due to medical or religious reasons. IBM will consider such requests on a case by case basis subject to submission of required proof by the candidate before a stipulated date.   Your Life @ IBM   In a world where technology never stands still, we understand that, dedication to our clients success, innovation that matters, and trust and personal responsibility in all our relationships, lives in what we do as IBMers as we strive to be the catalyst that makes the world work better.   Being an IBMer means you’ll be able to learn and develop yourself and your career, you’ll be encouraged to be courageous and experiment everyday, all whilst having continuous trust and support in an environment where everyone can thrive whatever their personal or professional background.   Our IBMers are growth minded, always staying curious, open to feedback and learning new information and skills to constantly transform themselves and our company. They are trusted to provide on-going feedback to help other IBMers grow, as well as collaborate with colleagues keeping in mind a team focused approach to include different perspectives to drive exceptional outcomes for our customers. The courage our IBMers have to make critical decisions everyday is essential to IBM becoming the catalyst for progress, always embracing challenges with resources they have to hand, a can-do attitude and always striving for an outcome focused approach within everything that they do.   Are you ready to be an IBMer?   About IBM   IBM's greatest invention is the IBMer. We believe that through the application of intelligence, reason and science, we can improve business, society and the human condition, bringing the power of an open hybrid cloud and AI strategy to life for our clients and partners around the world.   Restlessly reinventing since 1911, we are not only one of the largest corporate organizations in the world, we’re also one of the biggest technology and consulting employers, with many of the Fortune 50 companies relying on the IBM Cloud to run their business.   At IBM, we pride ourselves on being an early adopter of artificial intelligence, quantum computing and blockchain. Now it’s time for you to join us on our journey to being a responsible technology innovator and a force for good in the world.   Location Statement   When applying to jobs of your interest, we recommend that you do so for those that match your experience and expertise. Our recruiters advise that you apply to not more than 3 roles in a year for the best candidate experience.   For additional information about location requirements, please discuss with the recruiter following submission of your application.   Being You @ IBM   IBM is committed to creating a diverse environment and is proud to be an equal-opportunity employer. All qualified applicants will receive consideration for employment without regard to race, color, religion, sex, gender, gender identity or expression, sexual orientation, national origin, caste, genetics, pregnancy, disability, neurodivergence, age, veteran status, or other characteristics. IBM is also committed to compliance with all fair employment practices regarding citizenship and immigration status.\n"
          ]
        }
      ],
      "source": [
        "''' Taking job description as input '''\n",
        "\n",
        "def input_job_description():\n",
        "    print(\"Enter the job description you've copied \")\n",
        "    job_desc=input()\n",
        "\n",
        "    return job_desc\n",
        "\n",
        "\n",
        "job_desc=input_job_description()\n"
      ]
    },
    {
      "cell_type": "code",
      "source": [
        "\n",
        "''' Using LLM(Gemini here) to capture skills,industry, and the required experience for the afforementioned job description '''\n",
        "\n",
        "import google.generativeai as genai\n",
        "from dotenv import load_dotenv\n",
        "import os\n",
        "\n",
        "# Load the environment variables from the .env file\n",
        "load_dotenv()\n",
        "\n",
        "# Get the API key from the environment variable\n",
        "GEMINI_API_KEY = os.getenv(\"GEMINI_API_KEY\")\n",
        "\n",
        "\n",
        "# Check if API key is loaded\n",
        "if not GEMINI_API_KEY:\n",
        "    raise ValueError(\"Gemini API key not found. Please set it in the code.\")\n",
        "\n",
        "\n",
        "# Configure Gemini AI\n",
        "genai.configure(api_key=GEMINI_API_KEY)\n",
        "model = genai.GenerativeModel(model_name=\"gemini-1.5-flash\")\n",
        "\n",
        "response1 = model.generate_content(\n",
        "    f\"Could you extract the Industry,experience required as in number of years(estimate a range yourself if not specified) ,and skills into a seperate dictionary format? The job description is  as follows: {job_desc}\"\n",
        ")\n",
        "model_resp = response1.text\n",
        "\n",
        "print(model_resp)"
      ],
      "metadata": {
        "colab": {
          "base_uri": "https://localhost:8080/",
          "height": 709
        },
        "id": "-r_c5XaeWLSV",
        "outputId": "b1db71bb-5b6a-41d3-fc0c-310aaf8c4088"
      },
      "execution_count": 5,
      "outputs": [
        {
          "output_type": "stream",
          "name": "stdout",
          "text": [
            "```python\n",
            "job_data = {\n",
            "    \"Industry\": \"Consulting\",\n",
            "    \"Experience\": {\n",
            "        \"Years\": \"2-5\" \n",
            "    },\n",
            "    \"Skills\": [\n",
            "        \"GCP services\",\n",
            "        \"GCS\",\n",
            "        \"BigQuery\",\n",
            "        \"Cloud SQL\",\n",
            "        \"Dataflow\",\n",
            "        \"Pub/Sub\",\n",
            "        \"Cloud Run\",\n",
            "        \"Workflow\",\n",
            "        \"Composer\",\n",
            "        \"Error reporting\",\n",
            "        \"Log explorer\",\n",
            "        \"Python\",\n",
            "        \"SQL\",\n",
            "        \"Data analysis\",\n",
            "        \"Customer facing\",\n",
            "        \"Time management\",\n",
            "        \"Interpersonal skills\",\n",
            "        \"Agile methodologies\",\n",
            "        \"Creative design thinking\",\n",
            "        \"Cutting edge technologies\"\n",
            "    ]\n",
            "}\n",
            "```\n",
            "\n",
            "**Explanation:**\n",
            "\n",
            "* **Industry:**  The job description mentions \"IBM Consulting\" and \"IBM Consulting Client Innovation Centers\" making it clear that the role is within the Consulting industry.\n",
            "* **Experience:** While the description doesn't explicitly state experience required, based on the skills listed and the responsibilities, it's reasonable to assume a range of 2-5 years of experience. This is a typical requirement for a role involving multiple cloud services and data analysis.\n",
            "* **Skills:** The description lists several technical skills required, including GCP services, Python, SQL, data analysis, and some soft skills like communication and time management.  These are compiled into a list. \n",
            "\n"
          ]
        }
      ]
    },
    {
      "cell_type": "code",
      "source": [],
      "metadata": {
        "id": "PMwohTqWW4YY"
      },
      "execution_count": null,
      "outputs": []
    }
  ]
}