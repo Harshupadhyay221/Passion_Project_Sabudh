{
 "cells": [
  {
   "cell_type": "markdown",
   "metadata": {},
   "source": [
    "# **<span style=\"color:red\"> -CV to JSON </span>**"
   ]
  },
  {
   "cell_type": "markdown",
   "metadata": {},
   "source": [
    ".\n",
    "\n",
    "### **<span style=\"color:black\"> -pdf to Text </span>**"
   ]
  },
  {
   "cell_type": "code",
   "execution_count": 2,
   "metadata": {},
   "outputs": [
    {
     "name": "stdout",
     "output_type": "stream",
     "text": [
      "   \n",
      "Contact\n",
      "www.linkedin.com/in/satyanadella\n",
      "(LinkedIn)\n",
      "www.microsoft.com/ceo\n",
      "(Company)Satya Nadella\n",
      "Chairman and CEO at Microsoft\n",
      "Redmond, Washington, United States\n",
      "Summary\n",
      "As chairman and CEO of Microsoft, I define my mission and that of\n",
      "my company as empowering every person and every organization on\n",
      "the planet to achieve more.\n",
      "Experience\n",
      "Microsoft\n",
      "Chairman and CEO\n",
      "February 2014 - Present  (10 years 9 months)\n",
      "University of Chicago\n",
      "Member Board Of Trustees\n",
      "2018 - Present  (6 years)\n",
      "Starbucks\n",
      "Board Member\n",
      "2017 - 2024  (7 years)\n",
      "The Business Council U.S.\n",
      "Chairman\n",
      "2021 - 2023  (2 years)\n",
      "Fred Hutch\n",
      "Board Member\n",
      "2016 - 2022  (6 years)\n",
      "Education\n",
      "The University of Chicago Booth School of Business\n",
      " · (1994 - 1996)\n",
      "Manipal Institute of Technology, Manipal\n",
      "Bachelor’s Degree, Electrical Engineering\n",
      "  Page 1 of 2   \n",
      "University of Wisconsin-Milwaukee\n",
      "Master’s Degree, Computer Science\n",
      "  Page 2 of 2\n"
     ]
    }
   ],
   "source": [
    "import PyPDF2\n",
    "\n",
    "def pdf_to_text(pdf_file):\n",
    "    # Open the PDF file\n",
    "    with open(pdf_file, 'rb') as file:\n",
    "        reader = PyPDF2.PdfReader(file)\n",
    "        text = \"\"\n",
    "\n",
    "        # Iterate through all the pages and extract text\n",
    "        for page_num in range(len(reader.pages)):\n",
    "            page = reader.pages[page_num]\n",
    "            text += page.extract_text()\n",
    "\n",
    "    return text\n",
    "\n",
    "if __name__ == '__main__':\n",
    "    pdf_file = 'CV.pdf'  # Path to your PDF\n",
    "    PROFILE = pdf_to_text(pdf_file)  # Store extracted text in PROFILE\n",
    "    print(PROFILE)  # For verification, print the extracted text"
   ]
  },
  {
   "cell_type": "markdown",
   "metadata": {},
   "source": [
    ".\n",
    "\n",
    "### **<span style=\"color:black\"> -Text to JSON </span>**"
   ]
  },
  {
   "cell_type": "code",
   "execution_count": 3,
   "metadata": {},
   "outputs": [
    {
     "name": "stdout",
     "output_type": "stream",
     "text": [
      "```json\n",
      "{\n",
      "  \"contact\": {\n",
      "    \"linkedin\": \"www.linkedin.com/in/satyanadella\",\n",
      "    \"company\": \"www.microsoft.com/ceo\"\n",
      "  },\n",
      "  \"name\": \"Satya Nadella\",\n",
      "  \"title\": \"Chairman and CEO\",\n",
      "  \"company\": \"Microsoft\",\n",
      "  \"location\": \"Redmond, Washington, United States\",\n",
      "  \"summary\": \"As chairman and CEO of Microsoft, I define my mission and that of my company as empowering every person and every organization on the planet to achieve more.\",\n",
      "  \"experience\": [\n",
      "    {\n",
      "      \"company\": \"Microsoft\",\n",
      "      \"title\": \"Chairman and CEO\",\n",
      "      \"years\": \"February 2014 - Present (10 years 9 months)\"\n",
      "    },\n",
      "    {\n",
      "      \"company\": \"University of Chicago\",\n",
      "      \"title\": \"Member Board Of Trustees\",\n",
      "      \"years\": \"2018 - Present (6 years)\"\n",
      "    },\n",
      "    {\n",
      "      \"company\": \"Starbucks\",\n",
      "      \"title\": \"Board Member\",\n",
      "      \"years\": \"2017 - 2024 (7 years)\"\n",
      "    },\n",
      "    {\n",
      "      \"company\": \"The Business Council U.S.\",\n",
      "      \"title\": \"Chairman\",\n",
      "      \"years\": \"2021 - 2023 (2 years)\"\n",
      "    },\n",
      "    {\n",
      "      \"company\": \"Fred Hutch\",\n",
      "      \"title\": \"Board Member\",\n",
      "      \"years\": \"2016 - 2022 (6 years)\"\n",
      "    }\n",
      "  ],\n",
      "  \"education\": [\n",
      "    {\n",
      "      \"institution\": \"The University of Chicago Booth School of Business\",\n",
      "      \"degree\": null,\n",
      "      \"years\": \"1994 - 1996\"\n",
      "    },\n",
      "    {\n",
      "      \"institution\": \"Manipal Institute of Technology, Manipal\",\n",
      "      \"degree\": \"Bachelor’s Degree, Electrical Engineering\",\n",
      "      \"years\": null\n",
      "    },\n",
      "    {\n",
      "      \"institution\": \"University of Wisconsin-Milwaukee\",\n",
      "      \"degree\": \"Master’s Degree, Computer Science\",\n",
      "      \"years\": null\n",
      "    }\n",
      "  ]\n",
      "}\n",
      "```\n",
      "\n"
     ]
    }
   ],
   "source": [
    "import google.generativeai as genai\n",
    "from dotenv import load_dotenv\n",
    "import os\n",
    "\n",
    "# Load the environment variables from the .env file\n",
    "load_dotenv()\n",
    "\n",
    "# Get the API key from the environment variable\n",
    "GEMINI_API_KEY = os.getenv(\"GEMINI_API_KEY\")\n",
    "\n",
    "# Check if API key is loaded\n",
    "if not GEMINI_API_KEY:\n",
    "    raise ValueError(\"Gemini API key not found. Please set it in the code.\")\n",
    "\n",
    "\n",
    "# Configure Gemini AI\n",
    "genai.configure(api_key=GEMINI_API_KEY)\n",
    "model = genai.GenerativeModel(model_name=\"gemini-1.5-flash\")\n",
    "\n",
    "response = model.generate_content(f\"Could you kindly convert the candidate profile into a JSON format? The profile details are as follows: {PROFILE}\")\n",
    "print(response.text)"
   ]
  }
 ],
 "metadata": {
  "kernelspec": {
   "display_name": "Python 3",
   "language": "python",
   "name": "python3"
  },
  "language_info": {
   "codemirror_mode": {
    "name": "ipython",
    "version": 3
   },
   "file_extension": ".py",
   "mimetype": "text/x-python",
   "name": "python",
   "nbconvert_exporter": "python",
   "pygments_lexer": "ipython3",
   "version": "3.12.4"
  }
 },
 "nbformat": 4,
 "nbformat_minor": 2
}
