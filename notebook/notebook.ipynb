{
 "cells": [
  {
   "cell_type": "markdown",
   "metadata": {},
   "source": [
    "# Gemini API Calling"
   ]
  },
  {
   "cell_type": "code",
   "execution_count": 5,
   "metadata": {},
   "outputs": [],
   "source": [
    "import google.generativeai as genai\n",
    "from dotenv import load_dotenv\n",
    "import os\n",
    "\n",
    "# Load the environment variables from the .env file\n",
    "load_dotenv()\n",
    "\n",
    "# Get the API key from the environment variable\n",
    "GEMINI_API_KEY = os.getenv(\"GEMINI_API_KEY\")\n",
    "\n",
    "\n",
    "# Check if API key is loaded\n",
    "if not GEMINI_API_KEY:\n",
    "    raise ValueError(\"Gemini API key not found. Please set it in the code.\")\n",
    "\n",
    "\n",
    "# Configure Gemini AI\n",
    "genai.configure(api_key=GEMINI_API_KEY)\n",
    "model = genai.GenerativeModel(model_name=\"gemini-1.5-flash\")\n"
   ]
  },
  {
   "cell_type": "markdown",
   "metadata": {},
   "source": [
    "# Parsing the Job Description"
   ]
  },
  {
   "cell_type": "code",
   "execution_count": 6,
   "metadata": {},
   "outputs": [
    {
     "name": "stdout",
     "output_type": "stream",
     "text": [
      "```json\n",
      "{\n",
      "  \"Industry\": \"Technology\",\n",
      "  \"Experience\": \"5-8 Yrs\",\n",
      "  \"Skills\": [\"Data Engineering\", \"data engineer\", \"ETL\", \"Python\", \"SQL\", \"Data Science\", \"GCP\", \"Azure Cloud\"]\n",
      "}\n",
      "```\n",
      "\n"
     ]
    }
   ],
   "source": [
    "response1 = model.generate_content(\n",
    "    f\"\"\"\n",
    "        Extract the Industry, Experience and Skill from the Job description given below and Show it in JSON format.\n",
    "        'Accion Labs,       Data Engineer,      5-8 Yrs,        Data Engineering, data engineer, ETL, Python, SQL, Data Science, GCP, Azure Cloud,      Technology'\n",
    "\n",
    "    \"\"\"\n",
    ")\n",
    "JSON_Industry = response1.text\n",
    "\n",
    "print(JSON_Industry)"
   ]
  },
  {
   "cell_type": "markdown",
   "metadata": {},
   "source": [
    "# Candidate Resume to JSON"
   ]
  },
  {
   "cell_type": "code",
   "execution_count": 7,
   "metadata": {},
   "outputs": [
    {
     "name": "stdout",
     "output_type": "stream",
     "text": [
      "```json\n",
      "{\n",
      "  \"Industry\": \"Software Engineering\",\n",
      "  \"Experience\": [\n",
      "    {\n",
      "      \"Company\": \"Zoho\",\n",
      "      \"Title\": \"Software Engineer\",\n",
      "      \"Duration\": \"March 2022 - Present (2 years 8 months)\",\n",
      "      \"Location\": \"Chennai, Tamil Nadu, India\",\n",
      "      \"Responsibilities\": \"Led the development of innovative solutions like a cross-browser keyboard simulation and a File Transfer SDK. Focused on optimizing user interfaces and web applications to deliver scalable and user-centric solutions.\"\n",
      "    }\n",
      "  ],\n",
      "  \"Skills\": [\n",
      "    \"Frontend Development\",\n",
      "    \"React\",\n",
      "    \"Redux\",\n",
      "    \"Javascript\",\n",
      "    \"Typescript\",\n",
      "    \"Java\",\n",
      "    \"HTML5\",\n",
      "    \"CSS3\",\n",
      "    \"ES6\",\n",
      "    \"Jest\",\n",
      "    \"Problem Solving\",\n",
      "    \"SQL\",\n",
      "    \"Python\"\n",
      "  ]\n",
      "}\n",
      "```\n",
      "\n"
     ]
    }
   ],
   "source": [
    "### pdf to Text using Python ###\n",
    "import PyPDF2\n",
    "def pdf_to_text(pdf_file):\n",
    "    # Open the PDF file\n",
    "    with open(pdf_file, \"rb\") as file:\n",
    "        reader = PyPDF2.PdfReader(file)\n",
    "        text = \"\"\n",
    "\n",
    "        # Iterate through all the pages and extract text\n",
    "        for page_num in range(len(reader.pages)):\n",
    "            page = reader.pages[page_num]\n",
    "            text += page.extract_text()\n",
    "\n",
    "    return text\n",
    "\n",
    "pdf_file = \"CV.pdf\"  \n",
    "Text_CV = pdf_to_text(pdf_file)  \n",
    "\n",
    "\n",
    "### Text to JSON ##\n",
    "response2 = model.generate_content(\n",
    "    f\"Extract the Industry, Experience and Skill from the Candidate Resume given below and Show it in JSON format. : {Text_CV}\"\n",
    ")\n",
    "\n",
    "JSON_Candidate = response2.text\n",
    "\n",
    "print(JSON_Candidate)"
   ]
  },
  {
   "cell_type": "markdown",
   "metadata": {},
   "source": [
    "# Comparing the Job Description with the Resume"
   ]
  },
  {
   "cell_type": "code",
   "execution_count": 9,
   "metadata": {},
   "outputs": [
    {
     "name": "stdout",
     "output_type": "stream",
     "text": [
      "Rating: 5/10\n",
      "\n",
      "Industry: 9/10 - The candidate's resume indicates experience in Software Engineering, which is closely related to the Technology industry specified in the job description.  The overlap is substantial.\n",
      "\n",
      "Experience: 2/10 - The candidate's experience is significantly less than the required 5-8 years.  The listed experience is only 2 years and 8 months.  Furthermore, the nature of the experience (Frontend Development) doesn't directly align with the Data Engineering focus of the job description.\n",
      "\n",
      "Skills: 4/10 -  While the candidate possesses some relevant skills like Python and SQL, many crucial skills listed in the job description are missing (Data Engineering, ETL, Data Science, GCP, Azure Cloud). The skills listed are primarily focused on frontend development,  which is a different area of expertise.\n",
      "\n",
      "\n",
      "Why not a perfect 10?: The resume falls short of the job description in several key areas. The candidate lacks the required 5-8 years of experience, and their experience is not in Data Engineering.  The skills listed are largely irrelevant to the required skills for the job, particularly the absence of cloud platform experience (GCP, Azure) and core data engineering skills (ETL, Data Science).  The significant difference in the nature of the experience (frontend vs data engineering) prevents a higher score.\n",
      "\n"
     ]
    }
   ],
   "source": [
    "response5 = model.generate_content(\n",
    "    f\"\"\"\n",
    "    Compare the following Job Description and Candidate Resume and provide a general assessment.\n",
    "    Please do not include Markdown. Do not apply any visual styling to the text.\n",
    "\n",
    "    Rating: Give a rating out of 10. Each rating level corresponds to the following:\n",
    "\n",
    "    1/10: The resume doesn't meet any requirements of the job description.\n",
    "    2/10: Very few aspects of the resume align with the job description.\n",
    "    3/10: Some aspects of the resume are relevant, but there are significant gaps.\n",
    "    4/10: The resume partially meets the job description with a few key areas lacking.\n",
    "    5/10: The resume meets some of the key job requirements but has areas for improvement.\n",
    "    6/10: The resume aligns with most aspects of the job description, with a few minor gaps.\n",
    "    7/10: The resume matches the job description very well, with only minor areas for improvement.\n",
    "    8/10: The resume almost perfectly matches the job description with one or two small gaps.\n",
    "    9/10: The resume aligns with the job description almost perfectly, but there are very minor discrepancies.\n",
    "    10/10: The resume fully matches the job description with no gaps or discrepancies.\n",
    "\n",
    "\n",
    "    Industry: Give Rating out of 10 - Explain the alignment of the resume’s industry with the job description’s industry requirements.\n",
    "    Experience: Give Rating out of 10 - Analyze whether the candidate’s experience matches the expectations set by the job description (duration, relevance, etc.).\n",
    "    Skills: Give Rating out of 10 - Evaluate the skills in the resume and their relevance to the skills listed in the job description.\n",
    "    \n",
    "    Why not a perfect 10?: Explain the reasons for not giving a perfect score of 10, detailing any small discrepancies or areas for improvement.\n",
    "\n",
    "    Job Description\n",
    "    {JSON_Industry}\n",
    "\n",
    "    Candidate Resume\n",
    "    {JSON_Candidate}\n",
    "    \"\"\"\n",
    ")\n",
    "\n",
    "print(response5.text)"
   ]
  },
  {
   "cell_type": "markdown",
   "metadata": {},
   "source": [
    "# Feedback"
   ]
  },
  {
   "cell_type": "code",
   "execution_count": 16,
   "metadata": {},
   "outputs": [
    {
     "name": "stdout",
     "output_type": "stream",
     "text": [
      "Overall Assessment: Poor Match\n",
      "\n",
      "Job Description Match: The candidate's resume shows expertise in front-end development and software engineering, not data engineering.  A better fit would be a front-end developer or full-stack developer role focusing on React, Javascript, and related technologies.\n",
      "\n",
      "Focus Areas for Improvement: To improve the candidate's chances for this specific data engineering role, they should focus on acquiring and highlighting skills directly relevant to the job description.  This includes gaining practical experience with ETL processes, cloud platforms like GCP and Azure, and demonstrating proficiency in data engineering tools and techniques.  Adding projects to their portfolio that showcase these skills, alongside updating their resume to reflect this new expertise, would significantly improve their competitiveness for the target role.  They could also consider pursuing relevant certifications to validate their skills in data engineering.\n",
      "\n"
     ]
    }
   ],
   "source": [
    "response6 =  model.generate_content(\n",
    "    f\"\"\"\n",
    "    Compare the following Job Description and Candidate Resume and provide a general assessment.\n",
    "    Please do not include Markdown. Do not apply any visual styling to the text.\n",
    "\n",
    "    Overall Assessment: Provide in not more than 3 words.\n",
    "  \n",
    "    Job Description Match: Based on the analysis of the resume, what type of job description would align best with the candidate’s current skill set? If applicable, suggest jobs that would be a better fit.\n",
    "\n",
    "    Focus Areas for Improvement: If the user still wants to focus on the current job description (the one compared with), suggest a roadmap in paragraph.\n",
    "\n",
    "    Job Description\n",
    "    {JSON_Industry}\n",
    "\n",
    "    Candidate Resume\n",
    "    {JSON_Candidate}\n",
    "    \"\"\"\n",
    "    )\n",
    "print(response6.text)"
   ]
  }
 ],
 "metadata": {
  "kernelspec": {
   "display_name": "Python 3",
   "language": "python",
   "name": "python3"
  },
  "language_info": {
   "codemirror_mode": {
    "name": "ipython",
    "version": 3
   },
   "file_extension": ".py",
   "mimetype": "text/x-python",
   "name": "python",
   "nbconvert_exporter": "python",
   "pygments_lexer": "ipython3",
   "version": "3.12.4"
  }
 },
 "nbformat": 4,
 "nbformat_minor": 2
}
